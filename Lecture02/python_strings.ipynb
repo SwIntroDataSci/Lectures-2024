{
 "cells": [
  {
   "cell_type": "code",
   "execution_count": 11,
   "id": "8087f423-ed91-4fa4-bb71-d53bd05a984f",
   "metadata": {
    "tags": []
   },
   "outputs": [],
   "source": [
    "str1 = \"This is a string. \""
   ]
  },
  {
   "cell_type": "code",
   "execution_count": 22,
   "id": "d85f1a1d-c60e-456b-83b7-25e5e30d0564",
   "metadata": {
    "tags": []
   },
   "outputs": [
    {
     "data": {
      "text/plain": [
       "'This'"
      ]
     },
     "execution_count": 22,
     "metadata": {},
     "output_type": "execute_result"
    }
   ],
   "source": [
    "str1[:4]"
   ]
  },
  {
   "cell_type": "code",
   "execution_count": 23,
   "id": "d9c856a6-27bc-4de4-900e-993d2d6bf1cb",
   "metadata": {
    "tags": []
   },
   "outputs": [
    {
     "data": {
      "text/plain": [
       "'ThisThisThis'"
      ]
     },
     "execution_count": 23,
     "metadata": {},
     "output_type": "execute_result"
    }
   ],
   "source": [
    "str1[:4]*3"
   ]
  },
  {
   "cell_type": "code",
   "execution_count": 25,
   "id": "ef9ed3d2-ae61-4e7e-b888-91d1de079c44",
   "metadata": {
    "tags": []
   },
   "outputs": [
    {
     "data": {
      "text/plain": [
       "'This is a string'"
      ]
     },
     "execution_count": 25,
     "metadata": {},
     "output_type": "execute_result"
    }
   ],
   "source": [
    "str1.strip(\" .\")"
   ]
  },
  {
   "cell_type": "code",
   "execution_count": null,
   "id": "50f134e9-ee9f-4164-8353-4c674e7dd538",
   "metadata": {},
   "outputs": [],
   "source": []
  }
 ],
 "metadata": {
  "kernelspec": {
   "display_name": "Python 3 (ipykernel)",
   "language": "python",
   "name": "python3"
  },
  "language_info": {
   "codemirror_mode": {
    "name": "ipython",
    "version": 3
   },
   "file_extension": ".py",
   "mimetype": "text/x-python",
   "name": "python",
   "nbconvert_exporter": "python",
   "pygments_lexer": "ipython3",
   "version": "3.11.5"
  }
 },
 "nbformat": 4,
 "nbformat_minor": 5
}
