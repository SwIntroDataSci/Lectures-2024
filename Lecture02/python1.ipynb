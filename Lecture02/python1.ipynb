{
 "cells": [
  {
   "cell_type": "markdown",
   "id": "f42f9bda-a1fb-426f-a77a-8ec49ea9f83c",
   "metadata": {},
   "source": [
    "Naming of variables (slide *What is an Identifier?*)"
   ]
  },
  {
   "cell_type": "code",
   "execution_count": 19,
   "id": "9b7878bc-6c13-4d9b-82fc-72978bfaa1a5",
   "metadata": {
    "tags": []
   },
   "outputs": [
    {
     "name": "stdout",
     "output_type": "stream",
     "text": [
      "2\n"
     ]
    }
   ],
   "source": [
    "Fred = 1\n",
    "fred = 2\n",
    "print(fred)"
   ]
  },
  {
   "cell_type": "code",
   "execution_count": 16,
   "id": "6a09a924-8972-4688-bd8b-c384987473e2",
   "metadata": {
    "tags": []
   },
   "outputs": [
    {
     "data": {
      "text/plain": [
       "4495678840"
      ]
     },
     "execution_count": 16,
     "metadata": {},
     "output_type": "execute_result"
    }
   ],
   "source": [
    "id(fred)"
   ]
  },
  {
   "cell_type": "code",
   "execution_count": 17,
   "id": "47c65afb-7cc3-46ae-8fec-fe4eb6e3f16f",
   "metadata": {
    "tags": []
   },
   "outputs": [
    {
     "data": {
      "text/plain": [
       "4495678808"
      ]
     },
     "execution_count": 17,
     "metadata": {},
     "output_type": "execute_result"
    }
   ],
   "source": [
    "id(Fred)"
   ]
  },
  {
   "cell_type": "markdown",
   "id": "da27df8b-261f-4ebb-a456-4b2a5ae27815",
   "metadata": {},
   "source": [
    "Reserved words"
   ]
  },
  {
   "cell_type": "code",
   "execution_count": 2,
   "id": "5422fce5-b16f-4f03-8278-8da3fff2eddf",
   "metadata": {
    "tags": []
   },
   "outputs": [],
   "source": [
    "# while = 1"
   ]
  },
  {
   "cell_type": "markdown",
   "id": "278bda04-37f2-4f42-8e13-cbc20e06e5ac",
   "metadata": {},
   "source": [
    "Built-in Functions"
   ]
  },
  {
   "cell_type": "code",
   "execution_count": 3,
   "id": "89621774-dee4-4f63-8a5f-848bc5a5f3ca",
   "metadata": {
    "tags": []
   },
   "outputs": [
    {
     "data": {
      "text/plain": [
       "'0'"
      ]
     },
     "execution_count": 3,
     "metadata": {},
     "output_type": "execute_result"
    }
   ],
   "source": [
    "chr(48)"
   ]
  },
  {
   "cell_type": "code",
   "execution_count": 4,
   "id": "9396d4a2-626a-48b8-877b-4a23b7e3a826",
   "metadata": {
    "tags": []
   },
   "outputs": [
    {
     "name": "stdout",
     "output_type": "stream",
     "text": [
      "x\n"
     ]
    }
   ],
   "source": [
    "def chr(c):\n",
    "    print('x')\n",
    "    \n",
    "chr(48)"
   ]
  },
  {
   "cell_type": "code",
   "execution_count": 5,
   "id": "f0f7dbb2-819e-4fc0-abcf-982b6b9a49cc",
   "metadata": {
    "tags": []
   },
   "outputs": [
    {
     "name": "stdout",
     "output_type": "stream",
     "text": [
      "x\n"
     ]
    }
   ],
   "source": [
    "chr(48)"
   ]
  },
  {
   "cell_type": "markdown",
   "id": "fedb71f6-5db8-4f84-a4c2-b094b42ebf53",
   "metadata": {},
   "source": [
    "Types"
   ]
  },
  {
   "cell_type": "code",
   "execution_count": 6,
   "id": "37d0104d-a86e-4253-9d04-3f2ea7f42b40",
   "metadata": {
    "tags": []
   },
   "outputs": [
    {
     "data": {
      "text/plain": [
       "bool"
      ]
     },
     "execution_count": 6,
     "metadata": {},
     "output_type": "execute_result"
    }
   ],
   "source": [
    "type(True)"
   ]
  }
 ],
 "metadata": {
  "kernelspec": {
   "display_name": "Python 3 (ipykernel)",
   "language": "python",
   "name": "python3"
  },
  "language_info": {
   "codemirror_mode": {
    "name": "ipython",
    "version": 3
   },
   "file_extension": ".py",
   "mimetype": "text/x-python",
   "name": "python",
   "nbconvert_exporter": "python",
   "pygments_lexer": "ipython3",
   "version": "3.11.5"
  }
 },
 "nbformat": 4,
 "nbformat_minor": 5
}
