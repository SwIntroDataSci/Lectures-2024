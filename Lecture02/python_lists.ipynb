{
 "cells": [
  {
   "cell_type": "markdown",
   "id": "407c7536-2dbd-4d3e-8572-b624ca252e14",
   "metadata": {},
   "source": [
    "Lists"
   ]
  },
  {
   "cell_type": "code",
   "execution_count": 1,
   "id": "6978a9dd-228f-444f-9e19-84fb4b061d5c",
   "metadata": {},
   "outputs": [],
   "source": [
    "my_list = [1,6,8,3,2,6,8,4,7,9,13]"
   ]
  },
  {
   "cell_type": "code",
   "execution_count": 2,
   "id": "713a9f87-f243-4f22-a655-7e811b3df06e",
   "metadata": {
    "tags": []
   },
   "outputs": [
    {
     "data": {
      "text/plain": [
       "[2, 6, 8, 4, 7, 9, 13]"
      ]
     },
     "execution_count": 2,
     "metadata": {},
     "output_type": "execute_result"
    }
   ],
   "source": [
    "my_list[4:]"
   ]
  },
  {
   "cell_type": "code",
   "execution_count": 3,
   "id": "aed6614f-3788-4ff0-bce9-6024a6e93551",
   "metadata": {
    "tags": []
   },
   "outputs": [
    {
     "data": {
      "text/plain": [
       "[1, 6, 8]"
      ]
     },
     "execution_count": 3,
     "metadata": {},
     "output_type": "execute_result"
    }
   ],
   "source": [
    "my_list[:3]"
   ]
  },
  {
   "cell_type": "code",
   "execution_count": null,
   "id": "d4ace9d1-96a8-42f2-9933-3c9b51c3e1ca",
   "metadata": {},
   "outputs": [],
   "source": []
  }
 ],
 "metadata": {
  "kernelspec": {
   "display_name": "Python 3 (ipykernel)",
   "language": "python",
   "name": "python3"
  },
  "language_info": {
   "codemirror_mode": {
    "name": "ipython",
    "version": 3
   },
   "file_extension": ".py",
   "mimetype": "text/x-python",
   "name": "python",
   "nbconvert_exporter": "python",
   "pygments_lexer": "ipython3",
   "version": "3.11.5"
  }
 },
 "nbformat": 4,
 "nbformat_minor": 5
}
