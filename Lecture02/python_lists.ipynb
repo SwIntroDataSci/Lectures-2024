{
 "cells": [
  {
   "cell_type": "markdown",
   "id": "407c7536-2dbd-4d3e-8572-b624ca252e14",
   "metadata": {},
   "source": [
    "Lists"
   ]
  },
  {
   "cell_type": "code",
   "execution_count": 13,
   "id": "6978a9dd-228f-444f-9e19-84fb4b061d5c",
   "metadata": {},
   "outputs": [],
   "source": [
    "my_list = [1, 6, 8, 3, 2, 6, 8, 4, 7, 9, 13]"
   ]
  },
  {
   "cell_type": "code",
   "execution_count": 14,
   "id": "7cc4f0f8-8270-438e-ae2d-6eb0af55b5e2",
   "metadata": {
    "tags": []
   },
   "outputs": [
    {
     "data": {
      "text/plain": [
       "11"
      ]
     },
     "execution_count": 14,
     "metadata": {},
     "output_type": "execute_result"
    }
   ],
   "source": [
    "len(my_list)"
   ]
  },
  {
   "cell_type": "code",
   "execution_count": 2,
   "id": "713a9f87-f243-4f22-a655-7e811b3df06e",
   "metadata": {
    "tags": []
   },
   "outputs": [
    {
     "data": {
      "text/plain": [
       "[2, 6, 8, 4, 7, 9, 13]"
      ]
     },
     "execution_count": 2,
     "metadata": {},
     "output_type": "execute_result"
    }
   ],
   "source": [
    "my_list[4:]"
   ]
  },
  {
   "cell_type": "code",
   "execution_count": 16,
   "id": "aed6614f-3788-4ff0-bce9-6024a6e93551",
   "metadata": {
    "tags": []
   },
   "outputs": [
    {
     "data": {
      "text/plain": [
       "[1, 6, 8]"
      ]
     },
     "execution_count": 16,
     "metadata": {},
     "output_type": "execute_result"
    }
   ],
   "source": [
    "my_list[:3]"
   ]
  },
  {
   "cell_type": "code",
   "execution_count": 17,
   "id": "d4ace9d1-96a8-42f2-9933-3c9b51c3e1ca",
   "metadata": {
    "tags": []
   },
   "outputs": [],
   "source": [
    "my_dict = {1: 'a', 2: '5', 34: \"asd\"}"
   ]
  },
  {
   "cell_type": "code",
   "execution_count": 18,
   "id": "7fcf98ae-3ca3-4a9d-8131-1f508901c5be",
   "metadata": {
    "tags": []
   },
   "outputs": [
    {
     "data": {
      "text/plain": [
       "'asd'"
      ]
     },
     "execution_count": 18,
     "metadata": {},
     "output_type": "execute_result"
    }
   ],
   "source": [
    "my_dict[34]"
   ]
  },
  {
   "cell_type": "code",
   "execution_count": 20,
   "id": "0b43f480-815a-4ca3-a676-edc030c9112e",
   "metadata": {
    "tags": []
   },
   "outputs": [
    {
     "data": {
      "text/plain": [
       "dict_keys([1, 2, 34])"
      ]
     },
     "execution_count": 20,
     "metadata": {},
     "output_type": "execute_result"
    }
   ],
   "source": [
    "my_dict.keys()"
   ]
  },
  {
   "cell_type": "code",
   "execution_count": 19,
   "id": "0e7cb083-f860-49db-95db-53fc746199a0",
   "metadata": {
    "tags": []
   },
   "outputs": [
    {
     "ename": "KeyError",
     "evalue": "5",
     "output_type": "error",
     "traceback": [
      "\u001b[0;31m---------------------------------------------------------------------------\u001b[0m",
      "\u001b[0;31mKeyError\u001b[0m                                  Traceback (most recent call last)",
      "Cell \u001b[0;32mIn[19], line 1\u001b[0m\n\u001b[0;32m----> 1\u001b[0m my_dict[\u001b[38;5;241m5\u001b[39m]\n",
      "\u001b[0;31mKeyError\u001b[0m: 5"
     ]
    }
   ],
   "source": [
    "my_dict[5]"
   ]
  },
  {
   "cell_type": "code",
   "execution_count": 22,
   "id": "e0857d21-75b4-4fa0-8af4-1989c77aeb6d",
   "metadata": {
    "tags": []
   },
   "outputs": [
    {
     "name": "stdout",
     "output_type": "stream",
     "text": [
      "a\n"
     ]
    }
   ],
   "source": [
    "i = 1\n",
    "if i in my_dict.keys():\n",
    "    print(my_dict[i])"
   ]
  },
  {
   "cell_type": "code",
   "execution_count": null,
   "id": "ce92f92b-9db5-4afb-96b8-5bf4b37b1e7b",
   "metadata": {},
   "outputs": [],
   "source": []
  }
 ],
 "metadata": {
  "kernelspec": {
   "display_name": "Python 3 (ipykernel)",
   "language": "python",
   "name": "python3"
  },
  "language_info": {
   "codemirror_mode": {
    "name": "ipython",
    "version": 3
   },
   "file_extension": ".py",
   "mimetype": "text/x-python",
   "name": "python",
   "nbconvert_exporter": "python",
   "pygments_lexer": "ipython3",
   "version": "3.11.5"
  }
 },
 "nbformat": 4,
 "nbformat_minor": 5
}
